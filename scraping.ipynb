{
 "cells": [
  {
   "cell_type": "code",
   "execution_count": 1,
   "id": "d4761581",
   "metadata": {},
   "outputs": [],
   "source": [
    "import bs4\n",
    "from bs4 import BeautifulSoup as soup\n",
    "import requests\n",
    "import pandas as pd\n",
    "import time\n",
    "import random\n",
    "from IPython.display import clear_output, display\n",
    "\n",
    "REQUESTS_PER_MINUTE = 20\n",
    "wpa_df = pd.DataFrame"
   ]
  },
  {
   "cell_type": "code",
   "execution_count": 3,
   "id": "cea7fa31",
   "metadata": {},
   "outputs": [],
   "source": [
    "teams = [\"ARN\", \"ATL\", \"BAL\", \"BOS\",\"CHA\",\"CHN\",\"CIN\",\"CLE\",\"COL\",\"DET\", \"HOU\", \"KCA\", \"LAA\", \"LAN\", \"MIA\", \"MIL\", \"MIN\", \"NYA\", \"NYN\", \"OAK\", \"PHI\", \"PIT\", \"SDN\", \"SFN\", \"SEA\", \"STL\", \"TBA\", \"TEX\", \"TOR\",\"WAS\"]"
   ]
  },
  {
   "cell_type": "code",
   "execution_count": 4,
   "id": "5068edcd",
   "metadata": {},
   "outputs": [],
   "source": [
    "def scrape(url, gameID, ds):\n",
    "    time.sleep(60/REQUESTS_PER_MINUTE)\n",
    "    req = requests.get(url)\n",
    "    resp = req.status_code\n",
    "    d = soup(req.text, 'html.parser')\n",
    "    if resp == 200:\n",
    "        block = [i for i in d.find_all(string=lambda text: isinstance(text, bs4.Comment)) if 'id=\"div_play_by_play\"' in i][0]\n",
    "        b = soup(str(block), 'html.parser')\n",
    "        table = b.find_all('table')\n",
    "        path = f\"./wpa_data/{gameID}.csv\"\n",
    "        df = pd.read_html(str(table))[0]\n",
    "        df.to_csv(path)\n",
    "        data = ingestDF(df, gameID, path, ds)\n",
    "        return data\n",
    "    else:\n",
    "        return None"
   ]
  },
  {
   "cell_type": "code",
   "execution_count": 11,
   "id": "5d98d09c",
   "metadata": {
    "scrolled": false
   },
   "outputs": [
    {
     "data": {
      "text/plain": [
       "'120/13020 (0.92%) queries complete, just requested ARN202304300'"
      ]
     },
     "metadata": {},
     "output_type": "display_data"
    },
    {
     "ename": "KeyboardInterrupt",
     "evalue": "",
     "output_type": "error",
     "traceback": [
      "\u001b[1;31m---------------------------------------------------------------------------\u001b[0m",
      "\u001b[1;31mKeyboardInterrupt\u001b[0m                         Traceback (most recent call last)",
      "\u001b[1;32m<ipython-input-11-343166af0a13>\u001b[0m in \u001b[0;36m<module>\u001b[1;34m\u001b[0m\n\u001b[0;32m     12\u001b[0m                 \u001b[0mdate_string\u001b[0m \u001b[1;33m=\u001b[0m \u001b[1;34mf\"2023{str(month).zfill(2)}{str(day).zfill(2)}{i}\"\u001b[0m\u001b[1;33m\u001b[0m\u001b[1;33m\u001b[0m\u001b[0m\n\u001b[0;32m     13\u001b[0m                 \u001b[0murl\u001b[0m \u001b[1;33m=\u001b[0m \u001b[1;34mf\"https://www.baseball-reference.com/boxes/{teamID}/{gameID}.shtml\"\u001b[0m\u001b[1;33m\u001b[0m\u001b[1;33m\u001b[0m\u001b[0m\n\u001b[1;32m---> 14\u001b[1;33m                 \u001b[0mdata\u001b[0m \u001b[1;33m=\u001b[0m \u001b[0mscrape\u001b[0m\u001b[1;33m(\u001b[0m\u001b[0murl\u001b[0m\u001b[1;33m,\u001b[0m \u001b[0mgameID\u001b[0m\u001b[1;33m,\u001b[0m \u001b[0mdate_string\u001b[0m\u001b[1;33m)\u001b[0m\u001b[1;33m\u001b[0m\u001b[1;33m\u001b[0m\u001b[0m\n\u001b[0m\u001b[0;32m     15\u001b[0m                 \u001b[0mclear_output\u001b[0m\u001b[1;33m(\u001b[0m\u001b[0mwait\u001b[0m\u001b[1;33m=\u001b[0m\u001b[1;32mTrue\u001b[0m\u001b[1;33m)\u001b[0m\u001b[1;33m\u001b[0m\u001b[1;33m\u001b[0m\u001b[0m\n\u001b[0;32m     16\u001b[0m                 \u001b[0mdisplay\u001b[0m\u001b[1;33m(\u001b[0m\u001b[1;34mf\"{count}/{total_queries} ({(count/total_queries)*100:.2f}%) queries complete, just requested {gameID}\"\u001b[0m\u001b[1;33m)\u001b[0m\u001b[1;33m\u001b[0m\u001b[1;33m\u001b[0m\u001b[0m\n",
      "\u001b[1;32m<ipython-input-4-bf521797c118>\u001b[0m in \u001b[0;36mscrape\u001b[1;34m(url, gameID, ds)\u001b[0m\n\u001b[0;32m      1\u001b[0m \u001b[1;32mdef\u001b[0m \u001b[0mscrape\u001b[0m\u001b[1;33m(\u001b[0m\u001b[0murl\u001b[0m\u001b[1;33m,\u001b[0m \u001b[0mgameID\u001b[0m\u001b[1;33m,\u001b[0m \u001b[0mds\u001b[0m\u001b[1;33m)\u001b[0m\u001b[1;33m:\u001b[0m\u001b[1;33m\u001b[0m\u001b[1;33m\u001b[0m\u001b[0m\n\u001b[1;32m----> 2\u001b[1;33m     \u001b[0mtime\u001b[0m\u001b[1;33m.\u001b[0m\u001b[0msleep\u001b[0m\u001b[1;33m(\u001b[0m\u001b[1;36m60\u001b[0m\u001b[1;33m/\u001b[0m\u001b[0mREQUESTS_PER_MINUTE\u001b[0m\u001b[1;33m)\u001b[0m\u001b[1;33m\u001b[0m\u001b[1;33m\u001b[0m\u001b[0m\n\u001b[0m\u001b[0;32m      3\u001b[0m     \u001b[0mreq\u001b[0m \u001b[1;33m=\u001b[0m \u001b[0mrequests\u001b[0m\u001b[1;33m.\u001b[0m\u001b[0mget\u001b[0m\u001b[1;33m(\u001b[0m\u001b[0murl\u001b[0m\u001b[1;33m)\u001b[0m\u001b[1;33m\u001b[0m\u001b[1;33m\u001b[0m\u001b[0m\n\u001b[0;32m      4\u001b[0m     \u001b[0mresp\u001b[0m \u001b[1;33m=\u001b[0m \u001b[0mreq\u001b[0m\u001b[1;33m.\u001b[0m\u001b[0mstatus_code\u001b[0m\u001b[1;33m\u001b[0m\u001b[1;33m\u001b[0m\u001b[0m\n\u001b[0;32m      5\u001b[0m     \u001b[0md\u001b[0m \u001b[1;33m=\u001b[0m \u001b[0msoup\u001b[0m\u001b[1;33m(\u001b[0m\u001b[0mreq\u001b[0m\u001b[1;33m.\u001b[0m\u001b[0mtext\u001b[0m\u001b[1;33m,\u001b[0m \u001b[1;34m'html.parser'\u001b[0m\u001b[1;33m)\u001b[0m\u001b[1;33m\u001b[0m\u001b[1;33m\u001b[0m\u001b[0m\n",
      "\u001b[1;31mKeyboardInterrupt\u001b[0m: "
     ]
    }
   ],
   "source": [
    "days = list(range(1,32))\n",
    "months = list(range(3,10))\n",
    "total_queries = len(days) * len(months) * len(teams) * 2\n",
    "count = 0\n",
    "\n",
    "full_data = []\n",
    "for teamID in teams:\n",
    "    for month in months:\n",
    "        for day in days:\n",
    "            for i in range(2):\n",
    "                gameID = f\"{teamID}2023{str(month).zfill(2)}{str(day).zfill(2)}{i}\"\n",
    "                date_string = f\"2023{str(month).zfill(2)}{str(day).zfill(2)}{i}\"\n",
    "                url = f\"https://www.baseball-reference.com/boxes/{teamID}/{gameID}.shtml\"\n",
    "                data = scrape(url, gameID, date_string)\n",
    "                clear_output(wait=True)\n",
    "                display(f\"{count}/{total_queries} ({(count/total_queries)*100:.2f}%) queries complete, just requested {gameID}\")\n",
    "                count += 1\n",
    "                if data is not None:\n",
    "                    full_data.append(data)\n",
    "pd.DataFrame(full_data).to_csv(\"full_data.csv\")"
   ]
  },
  {
   "cell_type": "code",
   "execution_count": 24,
   "id": "bce07a8c",
   "metadata": {},
   "outputs": [],
   "source": [
    "def getTeamName(df, away):\n",
    "    if away:\n",
    "        return(df[df.Inn==\"t1\"][\"@Bat\"].iloc[0])\n",
    "    else:\n",
    "        return(df[df.Inn==\"b1\"][\"@Bat\"].iloc[0])"
   ]
  },
  {
   "cell_type": "code",
   "execution_count": 38,
   "id": "6b8d480a",
   "metadata": {},
   "outputs": [
    {
     "data": {
      "text/plain": [
       "9"
      ]
     },
     "metadata": {},
     "output_type": "display_data"
    }
   ],
   "source": [
    "for f in range(10):\n",
    "  # use display(f) if you encounter performance issues\n",
    "    time.sleep(1)"
   ]
  },
  {
   "cell_type": "code",
   "execution_count": null,
   "id": "2fca3d03",
   "metadata": {},
   "outputs": [],
   "source": []
  }
 ],
 "metadata": {
  "kernelspec": {
   "display_name": "base",
   "language": "python",
   "name": "python3"
  },
  "language_info": {
   "codemirror_mode": {
    "name": "ipython",
    "version": 3
   },
   "file_extension": ".py",
   "mimetype": "text/x-python",
   "name": "python",
   "nbconvert_exporter": "python",
   "pygments_lexer": "ipython3",
   "version": "3.8.3"
  },
  "vscode": {
   "interpreter": {
    "hash": "fa927db1c156406503f6880a1d28fe0c533a66fbde77652584fca4858e7e03b2"
   }
  }
 },
 "nbformat": 4,
 "nbformat_minor": 5
}
